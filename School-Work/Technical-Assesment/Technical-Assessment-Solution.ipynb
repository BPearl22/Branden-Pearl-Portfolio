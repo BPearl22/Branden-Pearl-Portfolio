{
 "cells": [
  {
   "cell_type": "markdown",
   "id": "5e25cbe9",
   "metadata": {},
   "source": [
    "# Unit 4 Career Preparation: Technical Assessment\n",
    "## Problem 1"
   ]
  },
  {
   "cell_type": "markdown",
   "id": "24b8ca39",
   "metadata": {},
   "source": [
    "Write a script that:\n",
    "* Reads the file `problem1.txt`.\n",
    "* Adds each line to a new list.\n",
    "* Prints the new list."
   ]
  },
  {
   "cell_type": "code",
   "execution_count": 14,
   "id": "55350ae5",
   "metadata": {},
   "outputs": [
    {
     "name": "stdout",
     "output_type": "stream",
     "text": [
      "['item1', 'item2', 'item3', 'item4', 'item5']\n"
     ]
    }
   ],
   "source": [
    "filepath = \"problem1.txt\"\n",
    "\n",
    "with open(filepath) as file:\n",
    "    file = file.readlines()\n",
    "    new_list = []\n",
    "    for lines in file:\n",
    "        lines = lines.strip()\n",
    "        new_list.append(lines)\n",
    "    print(new_list)"
   ]
  },
  {
   "cell_type": "markdown",
   "id": "62a4d05b",
   "metadata": {},
   "source": [
    "## Problem 2\n",
    "\n",
    "Write a script that:\n",
    "*  Reads the file `problem2.txt`.\n",
    "*  Counts how many times 192.168.1.1 appears in the file.\n",
    "*  Prints the result."
   ]
  },
  {
   "cell_type": "code",
   "execution_count": 29,
   "id": "0588da9b",
   "metadata": {},
   "outputs": [
    {
     "name": "stdout",
     "output_type": "stream",
     "text": [
      "The IP address 192.168.1.1 appears in problem2.txt 5 times.\n"
     ]
    }
   ],
   "source": [
    "filepath = \"problem2.txt\" \n",
    "\n",
    "target_ip = \"192.168.1.1\"\n",
    "\n",
    "count = 0\n",
    "\n",
    "with open(filepath) as problem_2:\n",
    "    problem_2 = problem_2.readlines()\n",
    "    for ip in problem_2:\n",
    "        ip = ip.strip()\n",
    "        ip_split = ip.split()\n",
    "        if target_ip in ip_split:\n",
    "            count += 1\n",
    "    print(\"The IP address \" + target_ip + \" appears in problem2.txt \" + str(count) + \" times.\")"
   ]
  },
  {
   "cell_type": "markdown",
   "id": "a8f18cc3",
   "metadata": {},
   "source": [
    "## Problem 3\n",
    "Write a script using a function (`dedupe`) that:\n",
    "* Takes a list `l = [1,5,7,2,4,3,5,1,6,2,6]`.\n",
    "* Returns a new list that contains all of the elements from the first list, excluding duplicates."
   ]
  },
  {
   "cell_type": "code",
   "execution_count": 37,
   "id": "2e9726dc",
   "metadata": {},
   "outputs": [
    {
     "name": "stdout",
     "output_type": "stream",
     "text": [
      "[5, 1, 2, 6]\n"
     ]
    }
   ],
   "source": [
    "test_list = [1,5,7,2,4,3,5,1,6,2,6]\n",
    "\n",
    "def dedupe(test_list):\n",
    "    old_num = []\n",
    "    new_list = []\n",
    "    for each_num in test_list:\n",
    "        if each_num not in old_num:\n",
    "            old_num.append(each_num)\n",
    "        else: \n",
    "            if each_num not in new_list: \n",
    "                new_list.append(each_num)\n",
    "                \n",
    "    return(new_list)\n",
    "\n",
    "print(dedupe(test_list))\n"
   ]
  },
  {
   "cell_type": "markdown",
   "id": "35690b6d",
   "metadata": {},
   "source": [
    "## Problem 4\n",
    "\n",
    "Write a program (using a function) that:\n",
    "* Asks the user for a long string containing multiple words.\n",
    "* Prints back the same string, except with the words in reverse order.\n",
    "\n",
    "For example, if the user types the string: 'My name is robert', it will print 'robert is name My'."
   ]
  },
  {
   "cell_type": "code",
   "execution_count": 86,
   "id": "f2698a06",
   "metadata": {},
   "outputs": [
    {
     "name": "stdin",
     "output_type": "stream",
     "text": [
      "Please enter a string containing muliple words:  this is a string\n"
     ]
    },
    {
     "name": "stdout",
     "output_type": "stream",
     "text": [
      "string a is this "
     ]
    }
   ],
   "source": [
    "some_string = input(\"Please enter a string containing muliple words: \")\n",
    "\n",
    "\n",
    "def reversed_words(some_string):\n",
    "    for each_word in some_string: \n",
    "        each_word = some_string.split()\n",
    "        reversed_string = each_word[::-1]\n",
    "    for word in reversed_string:\n",
    "        print(word, end=\" \")\n",
    "            \n",
    "reversed_words(some_string)\n",
    "    \n",
    "\n",
    "    "
   ]
  },
  {
   "cell_type": "markdown",
   "id": "131ef586",
   "metadata": {},
   "source": [
    "## Problem 5\n",
    "\n",
    "Write a script that:\n",
    "* Opens the file `problem5.txt`.\n",
    "* Counts each port and puts the results in a dictionary."
   ]
  },
  {
   "cell_type": "code",
   "execution_count": 66,
   "id": "c16fcb2a",
   "metadata": {},
   "outputs": [
    {
     "name": "stdout",
     "output_type": "stream",
     "text": [
      "{80: 7, 443: 3, 22: 5, 21: 2, 25: 3, 389: 1, 3389: 1, 445: 3}\n"
     ]
    }
   ],
   "source": [
    "filepath = \"problem5.txt\"\n",
    "port_dict = {}\n",
    "\n",
    "with open(filepath) as problem_5:\n",
    "    problem_5 = problem_5.readlines()\n",
    "    for lines in problem_5:\n",
    "        lines = lines.strip()\n",
    "        port = int(lines)\n",
    "        if port in port_dict:\n",
    "            port_dict[port] += 1\n",
    "        else:\n",
    "            port_dict[port] = 1\n",
    "            \n",
    "print(port_dict)\n",
    "    \n"
   ]
  }
 ],
 "metadata": {
  "kernelspec": {
   "display_name": "Python 3 [3.10]",
   "language": "python",
   "name": "python3"
  },
  "language_info": {
   "codemirror_mode": {
    "name": "ipython",
    "version": 3
   },
   "file_extension": ".py",
   "mimetype": "text/x-python",
   "name": "python",
   "nbconvert_exporter": "python",
   "pygments_lexer": "ipython3",
   "version": "3.10.2"
  }
 },
 "nbformat": 4,
 "nbformat_minor": 5
}
